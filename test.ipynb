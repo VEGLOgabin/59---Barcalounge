{
 "cells": [
  {
   "cell_type": "code",
   "execution_count": 1,
   "metadata": {},
   "outputs": [],
   "source": [
    "from bs4 import BeautifulSoup\n",
    "import requests\n",
    "import re"
   ]
  },
  {
   "cell_type": "code",
   "execution_count": 2,
   "metadata": {},
   "outputs": [],
   "source": [
    "\n",
    "url =  \"https://www.barcalounger.com/view-all-options/langston-power-lift-recline?attribute_pa_covers=tonya-brown\""
   ]
  },
  {
   "cell_type": "markdown",
   "metadata": {},
   "source": []
  },
  {
   "cell_type": "code",
   "execution_count": 8,
   "metadata": {},
   "outputs": [],
   "source": [
    "req = requests.get(url, headers = {\"User-Agent\" : \"Mozilla/5.0 (X11; Linux x86_64) AppleWebKit/537.36 (KHTML, like Gecko) Chrome/132.0.0.0 Safari/537.36\"})"
   ]
  },
  {
   "cell_type": "code",
   "execution_count": 9,
   "metadata": {},
   "outputs": [
    {
     "data": {
      "text/plain": [
       "202"
      ]
     },
     "execution_count": 9,
     "metadata": {},
     "output_type": "execute_result"
    }
   ],
   "source": [
    "req.status_code"
   ]
  },
  {
   "cell_type": "code",
   "execution_count": 10,
   "metadata": {},
   "outputs": [],
   "source": [
    "\n",
    "soup = BeautifulSoup(req.content, \"html.parser\")"
   ]
  },
  {
   "cell_type": "code",
   "execution_count": 13,
   "metadata": {},
   "outputs": [
    {
     "data": {
      "text/plain": [
       "'<html>\\n <head>\\n  <link href=\"data:;\" rel=\"icon\"/>\\n  <meta content=\"0;/.well-known/sgcaptcha/?r=%2Fview-all-options%2Flangston-power-lift-recline%3Fattribute_pa_covers%3Dtonya-brown&amp;y=ipc:41.216.53.25:1738689021.222\" http-equiv=\"refresh\"/>\\n </head>\\n</html>\\n'"
      ]
     },
     "execution_count": 13,
     "metadata": {},
     "output_type": "execute_result"
    }
   ],
   "source": [
    "soup.prettify()"
   ]
  },
  {
   "cell_type": "code",
   "execution_count": 11,
   "metadata": {},
   "outputs": [
    {
     "ename": "AttributeError",
     "evalue": "'NoneType' object has no attribute 'text'",
     "output_type": "error",
     "traceback": [
      "\u001b[0;31m---------------------------------------------------------------------------\u001b[0m",
      "\u001b[0;31mAttributeError\u001b[0m                            Traceback (most recent call last)",
      "Cell \u001b[0;32mIn[11], line 1\u001b[0m\n\u001b[0;32m----> 1\u001b[0m \u001b[43msoup\u001b[49m\u001b[38;5;241;43m.\u001b[39;49m\u001b[43mtitle\u001b[49m\u001b[38;5;241;43m.\u001b[39;49m\u001b[43mtext\u001b[49m\u001b[38;5;241m.\u001b[39mstrip()\n",
      "\u001b[0;31mAttributeError\u001b[0m: 'NoneType' object has no attribute 'text'"
     ]
    }
   ],
   "source": [
    "soup.title.text.strip()"
   ]
  },
  {
   "cell_type": "code",
   "execution_count": null,
   "metadata": {},
   "outputs": [],
   "source": []
  },
  {
   "cell_type": "markdown",
   "metadata": {},
   "source": [
    "## Web pages html Code saving for selectors checking"
   ]
  },
  {
   "cell_type": "code",
   "execution_count": 14,
   "metadata": {},
   "outputs": [],
   "source": [
    "# Saving the prettified HTML to a file\n",
    "with open(\"product.html\", \"w\", encoding=\"utf-8\") as file:\n",
    "    file.write(soup.prettify())"
   ]
  },
  {
   "cell_type": "markdown",
   "metadata": {},
   "source": [
    "## Nav Bar links scraping"
   ]
  },
  {
   "cell_type": "code",
   "execution_count": 45,
   "metadata": {},
   "outputs": [],
   "source": [
    "menu = soup.find(\"ul\", class_=\"sub-menu\")"
   ]
  },
  {
   "cell_type": "code",
   "execution_count": 46,
   "metadata": {},
   "outputs": [],
   "source": [
    "categories = menu.find_all(\"a\")"
   ]
  },
  {
   "cell_type": "code",
   "execution_count": 47,
   "metadata": {},
   "outputs": [],
   "source": [
    "categories = [[item.text.strip(), item.get(\"href\")] for item in categories]"
   ]
  },
  {
   "cell_type": "code",
   "execution_count": 48,
   "metadata": {},
   "outputs": [],
   "source": [
    "def get_products(link):\n",
    "    page = requests.get(link)\n",
    "    products = []\n",
    "    print(\"Getting products from : \", link)\n",
    "    if page.status_code == 200:\n",
    "        data = BeautifulSoup(page.content, \"html.parser\")\n",
    "        products = data.find_all(\"div\", class_ = \"sb-col l3 m3 sb-mobile sb-center sb-hover-opacity sb-border-bottom\")\n",
    "        products = [item.find('a').get(\"href\") for item in products if item.find('a')]\n",
    "    \n",
    "    if len(products) == 0:\n",
    "        products = data.find_all('div', class_ = \"ut-animated-image-item ut-image-gallery-item ut-animation-done\")\n",
    "        products = [item.find('a').get(\"href\") for item in products if item.find('a')]\n",
    "        \n",
    "\n",
    "    if len(products) == 0:\n",
    "            products = data.find_all('div', class_ = \"sb-col l3 m3 sb-mobile sb-center sb-hover-opacity\")\n",
    "            products = [item.find('a').get(\"href\") for item in products if item.find('a')]\n",
    "        \n",
    "    print(\"Products found : \", len(products))\n",
    "    return products"
   ]
  },
  {
   "cell_type": "code",
   "execution_count": null,
   "metadata": {},
   "outputs": [
    {
     "name": "stdout",
     "output_type": "stream",
     "text": [
      "Getting products from :  https://smithbrothersfurniture.com/new-styles/\n",
      "Products found :  6\n",
      "Getting products from :  https://smithbrothersfurniture.com/sofas/\n",
      "Products found :  35\n",
      "Getting products from :  https://smithbrothersfurniture.com/sectionals/\n",
      "Products found :  12\n",
      "Getting products from :  https://smithbrothersfurniture.com/sb-motion/\n",
      "Products found :  12\n",
      "Getting products from :  https://smithbrothersfurniture.com/recliners-tiltbacks/\n",
      "Products found :  38\n",
      "Getting products from :  https://smithbrothersfurniture.com/occasional-chairs/\n",
      "Products found :  42\n",
      "Getting products from :  https://smithbrothersfurniture.com/occasional-ottomans/\n",
      "Products found :  11\n",
      "Getting products from :  https://smithbrothersfurniture.com/sbdiningchairs/\n",
      "Products found :  18\n"
     ]
    }
   ],
   "source": [
    "def get_products_links():\n",
    "    url =  \"https://smithbrothersfurniture.com/occasional-chairs/\"\n",
    "    req = requests.get(url)\n",
    "    data = []\n",
    "    if req.status_code == 200:\n",
    "        soup = BeautifulSoup(req.content, \"html.parser\")\n",
    "        menu = soup.find(\"ul\", class_=\"sub-menu\")\n",
    "        categories = menu.find_all(\"a\")\n",
    "        categories = [[item.text.strip(), item.get(\"href\")] for item in categories]\n",
    "        \n",
    "        for item in categories:\n",
    "            category1 = item[0]\n",
    "            if category1 != \"BUILD YOUR OWN\":\n",
    "                products = get_products(item[1])\n",
    "                for prod_link in products:\n",
    "                    row = [category1, prod_link]\n",
    "                    data.append(row)\n",
    "\n",
    "    return data\n",
    "        "
   ]
  },
  {
   "cell_type": "code",
   "execution_count": 53,
   "metadata": {},
   "outputs": [
    {
     "name": "stdout",
     "output_type": "stream",
     "text": [
      "Data saved to products.csv\n"
     ]
    }
   ],
   "source": [
    "import csv\n",
    "# Save data to CSV\n",
    "csv_filename = \"products.csv\"\n",
    "with open(csv_filename, mode=\"w\", newline=\"\", encoding=\"utf-8\") as file:\n",
    "    writer = csv.writer(file)\n",
    "    writer.writerow([\"Category\", \"Product URL\"])  # Header\n",
    "    writer.writerows(data)\n",
    "\n",
    "print(f\"Data saved to {csv_filename}\")"
   ]
  },
  {
   "cell_type": "code",
   "execution_count": null,
   "metadata": {},
   "outputs": [],
   "source": []
  },
  {
   "cell_type": "code",
   "execution_count": null,
   "metadata": {},
   "outputs": [],
   "source": []
  },
  {
   "cell_type": "code",
   "execution_count": null,
   "metadata": {},
   "outputs": [],
   "source": []
  },
  {
   "cell_type": "markdown",
   "metadata": {},
   "source": [
    "## Product page scraping"
   ]
  },
  {
   "cell_type": "code",
   "execution_count": 50,
   "metadata": {},
   "outputs": [],
   "source": [
    "sku = soup.find(\"span\", class_ = \"sb-style-no\")\n",
    "if sku:\n",
    "    sku = sku.text.strip()\n",
    "else:\n",
    "    sku = \"\""
   ]
  },
  {
   "cell_type": "code",
   "execution_count": 51,
   "metadata": {},
   "outputs": [
    {
     "data": {
      "text/plain": [
       "''"
      ]
     },
     "execution_count": 51,
     "metadata": {},
     "output_type": "execute_result"
    }
   ],
   "source": [
    "sku"
   ]
  },
  {
   "cell_type": "code",
   "execution_count": 11,
   "metadata": {},
   "outputs": [],
   "source": [
    "if sku:\n",
    "    collection = sku + \" \" + \"Style\"\n",
    "else:\n",
    "    collection = \"\""
   ]
  },
  {
   "cell_type": "code",
   "execution_count": 52,
   "metadata": {},
   "outputs": [],
   "source": [
    "description = soup.find(\"p\", class_ =\"sb-style-desc\")\n",
    "if description:\n",
    "    description = description.text.strip()\n",
    "else:\n",
    "    description = \"\""
   ]
  },
  {
   "cell_type": "code",
   "execution_count": 53,
   "metadata": {},
   "outputs": [
    {
     "data": {
      "text/plain": [
       "''"
      ]
     },
     "execution_count": 53,
     "metadata": {},
     "output_type": "execute_result"
    }
   ],
   "source": [
    "description"
   ]
  },
  {
   "cell_type": "code",
   "execution_count": 54,
   "metadata": {},
   "outputs": [],
   "source": [
    "catalog_pdf = soup.find(\"div\", class_ = \"sb-center sb-large\")\n",
    "if catalog_pdf:\n",
    "    catalog_pdf = catalog_pdf.find(\"a\").get(\"href\")\n",
    "else:\n",
    "    catalog_pdf = \"\""
   ]
  },
  {
   "cell_type": "code",
   "execution_count": 55,
   "metadata": {},
   "outputs": [
    {
     "data": {
      "text/plain": [
       "''"
      ]
     },
     "execution_count": 55,
     "metadata": {},
     "output_type": "execute_result"
    }
   ],
   "source": [
    "catalog_pdf"
   ]
  },
  {
   "cell_type": "code",
   "execution_count": 56,
   "metadata": {},
   "outputs": [],
   "source": [
    "main_img = soup.find('img', class_ = \"sb-style-details-image\")\n",
    "if main_img:\n",
    "    main_img = main_img.get(\"src\")\n",
    "else:\n",
    "    main_img = \"\""
   ]
  },
  {
   "cell_type": "code",
   "execution_count": 57,
   "metadata": {},
   "outputs": [
    {
     "data": {
      "text/plain": [
       "''"
      ]
     },
     "execution_count": 57,
     "metadata": {},
     "output_type": "execute_result"
    }
   ],
   "source": [
    "main_img"
   ]
  },
  {
   "cell_type": "code",
   "execution_count": null,
   "metadata": {},
   "outputs": [],
   "source": []
  },
  {
   "cell_type": "code",
   "execution_count": 68,
   "metadata": {},
   "outputs": [],
   "source": [
    "product_imgs = soup.find_all(\"img\", class_ = \"sb-image sb-hover-opacity sb-wide-25 sb-margin-right\")\n",
    "if product_imgs:\n",
    "    product_imgs = [item.get(\"src\") for item in product_imgs]\n",
    "else:\n",
    "    product_imgs = []"
   ]
  },
  {
   "cell_type": "code",
   "execution_count": 70,
   "metadata": {},
   "outputs": [],
   "source": [
    "product_imgs = soup.find_all(\"img\", class_ = \"sb-image sb-hover-opacity\")\n",
    "if product_imgs:\n",
    "    product_imgs = [item.get(\"src\") for item in product_imgs]\n",
    "else:\n",
    "    product_imgs = []"
   ]
  },
  {
   "cell_type": "code",
   "execution_count": 71,
   "metadata": {},
   "outputs": [
    {
     "data": {
      "text/plain": [
       "['https://smithbrothersfurniture.com/ImgGlobal/Styles/public/211-sm-fabric-chair.jpg',\n",
       " 'https://smithbrothersfurniture.com/ImgGlobal/Styles/public/211-sm-fabric-ottoman.jpg',\n",
       " 'https://smithbrothersfurniture.com/ImgGlobal/Styles/public/211-sm-leather-sofa.jpg',\n",
       " 'https://smithbrothersfurniture.com/ImgGlobal/Styles/public/211-sm-leather-chair.jpg',\n",
       " 'https://smithbrothersfurniture.com/ImgGlobal/Styles/public/211-sm-leather-ottoman.jpg']"
      ]
     },
     "execution_count": 71,
     "metadata": {},
     "output_type": "execute_result"
    }
   ],
   "source": [
    "product_imgs"
   ]
  },
  {
   "cell_type": "code",
   "execution_count": 60,
   "metadata": {},
   "outputs": [],
   "source": [
    "specifications = {}\n",
    "specification_div = soup.find_all(\"div\", class_ = \"sb-row sb-mobile sb-margin-left\")\n",
    "if specification_div:\n",
    "    for item in specification_div:\n",
    "        divs = item.find_all(\"div\")\n",
    "        if len(divs) == 2:\n",
    "            item_key = divs[0].find(\"strong\")\n",
    "            if item_key:\n",
    "                item_key = item_key.text.strip().replace(\":\", \"\")\n",
    "            else:\n",
    "                continue\n",
    "            item_value = divs[1].find(\"span\")\n",
    "            if item_value:\n",
    "                item_value = item_value.text.strip().replace('\"', \"\")\n",
    "            else:\n",
    "                continue\n",
    "\n",
    "            if item_key and item_value:\n",
    "                specifications[item_key] = item_value\n",
    "\n",
    "if specifications:\n",
    "    width = specifications.get(\"Width\", None)\n",
    "    depth = specifications.get(\"Depth\", None)\n",
    "    height = specifications.get(\"Height\", None)\n",
    "    specifications_str = \"; \".join([f\"{k}: {v}\" for k, v in specifications.items()])\n",
    "else:\n",
    "    width = \"\"\n",
    "    depth = \"\"\n",
    "    height = \"\"\n",
    "    specifications_str = \"\"\n",
    "  \n"
   ]
  },
  {
   "cell_type": "code",
   "execution_count": 61,
   "metadata": {},
   "outputs": [
    {
     "data": {
      "text/plain": [
       "{}"
      ]
     },
     "execution_count": 61,
     "metadata": {},
     "output_type": "execute_result"
    }
   ],
   "source": [
    "specifications"
   ]
  },
  {
   "cell_type": "code",
   "execution_count": null,
   "metadata": {},
   "outputs": [],
   "source": []
  },
  {
   "cell_type": "code",
   "execution_count": 62,
   "metadata": {},
   "outputs": [
    {
     "data": {
      "text/plain": [
       "''"
      ]
     },
     "execution_count": 62,
     "metadata": {},
     "output_type": "execute_result"
    }
   ],
   "source": [
    "specifications_str"
   ]
  },
  {
   "cell_type": "code",
   "execution_count": null,
   "metadata": {},
   "outputs": [],
   "source": []
  },
  {
   "cell_type": "code",
   "execution_count": 75,
   "metadata": {},
   "outputs": [
    {
     "name": "stdout",
     "output_type": "stream",
     "text": [
      "Duplicate rows removed based on SKU. Updated file saved as 'updated_file.csv'.\n"
     ]
    }
   ],
   "source": [
    "import pandas as pd\n",
    "\n",
    "# Load the CSV file\n",
    "file_path = \"output/smith_brothers.csv\"  # Update with your actual file path\n",
    "df = pd.read_csv(file_path, dtype=str)\n",
    "\n",
    "# Remove duplicate rows based on SKU (keeping the first occurrence)\n",
    "df = df.drop_duplicates(subset=['SKU'], keep='first')\n",
    "\n",
    "# Save the cleaned data back to a CSV file\n",
    "df.to_csv(\"output/smith_brothers_updated.csv\", index=False)\n",
    "\n",
    "print(\"Duplicate rows removed based on SKU. Updated file saved as 'updated_file.csv'.\")\n"
   ]
  },
  {
   "cell_type": "code",
   "execution_count": 73,
   "metadata": {},
   "outputs": [
    {
     "name": "stdout",
     "output_type": "stream",
     "text": [
      "Collecting pandas\n",
      "  Downloading pandas-2.0.3-cp38-cp38-manylinux_2_17_x86_64.manylinux2014_x86_64.whl (12.4 MB)\n",
      "\u001b[K     |████████████████████████████████| 12.4 MB 362 kB/s eta 0:00:01\n",
      "\u001b[?25hRequirement already satisfied: python-dateutil>=2.8.2 in /home/admin1/.local/lib/python3.8/site-packages (from pandas) (2.9.0.post0)\n",
      "Collecting numpy>=1.20.3; python_version < \"3.10\"\n",
      "  Downloading numpy-1.24.4-cp38-cp38-manylinux_2_17_x86_64.manylinux2014_x86_64.whl (17.3 MB)\n",
      "\u001b[K     |████████████████████████████████| 17.3 MB 305 kB/s eta 0:00:01\n",
      "\u001b[?25hCollecting pytz>=2020.1\n",
      "  Downloading pytz-2025.1-py2.py3-none-any.whl (507 kB)\n",
      "\u001b[K     |████████████████████████████████| 507 kB 230 kB/s eta 0:00:01\n",
      "\u001b[?25hCollecting tzdata>=2022.1\n",
      "  Downloading tzdata-2025.1-py2.py3-none-any.whl (346 kB)\n",
      "\u001b[K     |████████████████████████████████| 346 kB 350 kB/s eta 0:00:01\n",
      "\u001b[?25hRequirement already satisfied: six>=1.5 in /usr/lib/python3/dist-packages (from python-dateutil>=2.8.2->pandas) (1.14.0)\n",
      "Installing collected packages: numpy, pytz, tzdata, pandas\n",
      "Successfully installed numpy-1.24.4 pandas-2.0.3 pytz-2025.1 tzdata-2025.1\n"
     ]
    }
   ],
   "source": [
    "!pip install pandas"
   ]
  }
 ],
 "metadata": {
  "kernelspec": {
   "display_name": "Python 3",
   "language": "python",
   "name": "python3"
  },
  "language_info": {
   "codemirror_mode": {
    "name": "ipython",
    "version": 3
   },
   "file_extension": ".py",
   "mimetype": "text/x-python",
   "name": "python",
   "nbconvert_exporter": "python",
   "pygments_lexer": "ipython3",
   "version": "3.13.0"
  }
 },
 "nbformat": 4,
 "nbformat_minor": 2
}
